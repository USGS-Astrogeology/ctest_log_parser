{
 "cells": [
  {
   "cell_type": "code",
   "execution_count": 7,
   "metadata": {
    "collapsed": true
   },
   "outputs": [],
   "source": [
    "import pandas as pd\n",
    "import os\n",
    "import re\n",
    "import smtplib\n",
    "from email.mime.text import MIMEText\n",
    "from email.mime.multipart import MIMEMultipart"
   ]
  },
  {
   "cell_type": "code",
   "execution_count": 8,
   "metadata": {
    "collapsed": true,
    "scrolled": true
   },
   "outputs": [],
   "source": [
    "def parse_logs(filename):\n",
    "    with open(filename) as f:\n",
    "        content = f.readlines()        \n",
    "        \n",
    "    content = [x.strip() for x in content] \n",
    "    results = []\n",
    "    \n",
    "    for line in content:    \n",
    "        try:\n",
    "            data = {}\n",
    "            data['passed'] = bool(re.search(\"passed\", line, flags=re.IGNORECASE))\n",
    "            data['name'] = re.search(\"isis3_[A-z]+|[A-z]+_app_[A-z]+\", line, flags=re.IGNORECASE).group(0)\n",
    "            data['test_id'] = int(re.search(\"#[0-9]+\", line, flags=re.IGNORECASE).group(0)[1:])\n",
    "            data['time'] = float(re.search(\"[0-9]+\\.[0-9]+\", line, flags=re.IGNORECASE).group(0))\n",
    "            results.append(data)\n",
    "        except Exception as e:\n",
    "            pass\n",
    "    \n",
    "    return pd.DataFrame(results)"
   ]
  },
  {
   "cell_type": "code",
   "execution_count": 71,
   "metadata": {
    "collapsed": false
   },
   "outputs": [],
   "source": [
    "def parse_make(filename):\n",
    "    with open(filename) as f:\n",
    "        content = f.readlines()\n",
    "        \n",
    "    content = [x.strip() for x in content]\n",
    "    results = []\n",
    "    # Set initial data and target to none since the re.match may not find anything\n",
    "    data = {'Target':None}\n",
    "    data_list = []\n",
    "    target = \"Generation\"\n",
    "    \n",
    "    for line in content:\n",
    "        try:\n",
    "            # If nothing is found, the .group(0) call will cause an error and\n",
    "            # move to the exception clause\n",
    "            target = re.match(\"Scanning dependencies of target [A-z or 0-9 or _]+|[A-z or 0-9 or _]+.so\", line,\n",
    "                              flags=re.IGNORECASE).group(0)[32:]\n",
    "            \n",
    "            if data['Target'] != target:\n",
    "                if data['Target']:\n",
    "                    results.append(data)\n",
    "                    \n",
    "                data_list = []\n",
    "                data = {'Target':target, 'data_list':data_list, 'built':True}\n",
    "                \n",
    "        except Exception as e:\n",
    "            # Check for a particular line to indicate the switch to parsing installs\n",
    "            if line == \"Install the project...\":\n",
    "                    target = None\n",
    "                    results.append(data)\n",
    "                    data_list = []\n",
    "                    data = {'Target':'Installs', 'data_list':data_list, 'built':True}\n",
    "            \n",
    "            # If there is a target, look for the various regexs under the target\n",
    "            if target:\n",
    "                std_line = re.search(\"\\[[0-9 or \\ ]*%] Building|\\[[0-9 or \\ ]*%] Linking|\" +\n",
    "                                     \"\\[[0-9 or \\ ]*%] Built|\\[[0-9 or \\ ]*%] Generating\", \n",
    "                                     line, flags=re.IGNORECASE)\n",
    "                # If there is noting in the std_line, there is some weird output and the\n",
    "                # target failed to build\n",
    "                if not std_line and data:\n",
    "                    data['built'] = False\n",
    "                    data_list.append(line)\n",
    "            # No target, we are installing. Look for the various regexs for installing\n",
    "            else:\n",
    "                std_line = re.search(\"Install|-- Install|-- Installing|-- Set runtime path of|\" +\n",
    "                                     \"-- Up-to-date\", \n",
    "                                     line, flags=re.IGNORECASE)\n",
    "                if std_line:\n",
    "                    data_list.append(line)\n",
    "                if not std_line:\n",
    "                    data_list.append(line)\n",
    "                    data['built'] = False\n",
    "                    break\n",
    "            pass\n",
    "    results.append(data)\n",
    "    return pd.DataFrame(results)"
   ]
  }
 ],
 "metadata": {
  "anaconda-cloud": {},
  "kernelspec": {
   "display_name": "Python [default]",
   "language": "python",
   "name": "python3"
  },
  "language_info": {
   "codemirror_mode": {
    "name": "ipython",
    "version": 3
   },
   "file_extension": ".py",
   "mimetype": "text/x-python",
   "name": "python",
   "nbconvert_exporter": "python",
   "pygments_lexer": "ipython3",
   "version": "3.5.2"
  }
 },
 "nbformat": 4,
 "nbformat_minor": 2
}
